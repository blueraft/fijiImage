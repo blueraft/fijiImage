{
 "cells": [
  {
   "cell_type": "markdown",
   "id": "88054eb2",
   "metadata": {},
   "source": [
    "![FAIRmat](FAIRmat_S.png)"
   ]
  },
  {
   "cell_type": "markdown",
   "id": "9ecf3020",
   "metadata": {},
   "source": [
    "# fiji-webtop container cheatsheet"
   ]
  },
  {
   "cell_type": "markdown",
   "id": "4091c1e2",
   "metadata": {},
   "source": [
    "The fiji-webtop container provides preinstalled and configured imagej and fiji imagej versions<br>\n",
    "for preparing data from electron microscopy experiment for e.g. focal series reconstruction.<br>\n",
    "ImageJ is configured with several plug-ins from the SALVE microscopy group in Ulm (tools<br>\n",
    "which where developed by Michael Mohn et al. in Prof. Ute Kaiser's group). Specifically,<br>\n",
    "https://github.com/mmohn/SER_Reader<br>\n",
    "https://github.com/mmohn/Stack_Alignment<br>\n",
    "***"
   ]
  },
  {
   "cell_type": "markdown",
   "id": "69238a64",
   "metadata": {
    "tags": []
   },
   "source": [
    "# Getting started with imagej"
   ]
  },
  {
   "cell_type": "markdown",
   "id": "6e324fa1",
   "metadata": {},
   "source": [
    "imagej (https://imagej.net/) is available under /home/imagej/ImageJ. The GUI can be started by opening a terminal by clicking a terminal<br>\n",
    "panel on the right part of the jupyter-lab screen. The following command line call will start imagej:<br>"
   ]
  },
  {
   "cell_type": "code",
   "execution_count": null,
   "id": "5fd98af7",
   "metadata": {},
   "outputs": [],
   "source": [
    "! /home/imagej/ImageJ/ImageJ\n"
   ]
  },
  {
   "cell_type": "markdown",
   "id": "1aa22278",
   "metadata": {},
   "source": [
    "## Getting started with fiji"
   ]
  },
  {
   "cell_type": "markdown",
   "id": "49e09d74-b0d6-4512-8929-38fd715d3948",
   "metadata": {},
   "source": [
    "Fiji (https://imagej.net/software/fiji/downloads) is an extension of the imagej image processing suite with many additional plug-ins.<br>\n",
    "The tool is available under /home/fiji/Fiji.app. The GUI can be started by opening a terminal by clicking a terminal panel<br>\n",
    "on the right part of the jupyter-lab screen. The following command line call will start fiji:<br>"
   ]
  },
  {
   "cell_type": "code",
   "execution_count": null,
   "id": "3e9edd09-e4ee-4163-8138-b33311fe8f8c",
   "metadata": {},
   "outputs": [],
   "source": [
    "! /home/fiji/Fiji.app/ImageJ-linux64\n"
   ]
  },
  {
   "cell_type": "code",
   "execution_count": null,
   "id": "503e63a2-4586-4365-84bd-08692c3b2324",
   "metadata": {},
   "outputs": [],
   "source": []
  }
 ],
 "metadata": {
  "kernelspec": {
   "display_name": "Python 3 (ipykernel)",
   "language": "python",
   "name": "python3"
  },
  "language_info": {
   "codemirror_mode": {
    "name": "ipython",
    "version": 3
   },
   "file_extension": ".py",
   "mimetype": "text/x-python",
   "name": "python",
   "nbconvert_exporter": "python",
   "pygments_lexer": "ipython3",
   "version": "3.9.12"
  }
 },
 "nbformat": 4,
 "nbformat_minor": 5
}
